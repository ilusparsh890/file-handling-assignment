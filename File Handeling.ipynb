{
 "cells": [
  {
   "cell_type": "markdown",
   "id": "d6fcd5df-0839-4b2f-8cac-3544fc2a3e82",
   "metadata": {},
   "source": [
    "1) What is the difference between interpreted and compiled languages?\n",
    "-> Interpreted languages (like Python) execute code line-by-line using an interpreter. This allows for easier debugging and platform independence but can be slower.\n",
    "Compiled languages (like C or C++) are translated into machine code before execution. This makes them faster and more efficient but less flexible during development."
   ]
  },
  {
   "cell_type": "markdown",
   "id": "2746c40d-b842-4397-a158-8776244ea76e",
   "metadata": {},
   "source": [
    "2) What is exception handling in Python?\n",
    "-> Exception handling is a mechanism that allows a program to deal with unexpected errors during execution. Instead of crashing, Python lets you catch and handle these errors using try, except, else, and finally blocks, ensuring the program continues running smoothly."
   ]
  },
  {
   "cell_type": "markdown",
   "id": "f0c2ee5c-50de-4656-8f44-ed877afb4bfc",
   "metadata": {},
   "source": [
    "3) What is the purpose of the finally block in exception handling?\n",
    "-> The finally block is used to define cleanup actions that must be executed under all circumstances—whether an exception was raised or not. It's commonly used to close files, release resources, or reset states."
   ]
  },
  {
   "cell_type": "markdown",
   "id": "e4fdef26-8ad0-4cf0-9196-2afe64aca773",
   "metadata": {},
   "source": [
    "4) What is logging in Python?\n",
    "-> Logging is a way to track events that happen when software runs. Python’s logging module allows developers to record messages at different severity levels (like debug, info, warning, error, and critical), which helps in diagnosing problems and understanding program flow."
   ]
  },
  {
   "cell_type": "markdown",
   "id": "e0e8ea9c-5cb4-4f9f-8fd4-8f3f2cfaf7b5",
   "metadata": {},
   "source": [
    "5) What is the significance of the __del__ method in Python?\n",
    "-> The __del__ method is a special method called a destructor. It is automatically invoked when an object is about to be destroyed, allowing you to perform cleanup tasks. However, relying on it is discouraged because the timing of its execution is not guaranteed."
   ]
  },
  {
   "cell_type": "markdown",
   "id": "fef39c43-c548-4a7a-8ac0-85ed0d881a5f",
   "metadata": {},
   "source": [
    "6) What is the difference between import and from ... import in Python?\n",
    "-> import module: Imports the entire module. We access functions with module.function().\n",
    "from module import function: Imports specific functions or classes, allowing direct use without the module prefix."
   ]
  },
  {
   "cell_type": "markdown",
   "id": "948419bd-54c5-4861-95d1-ef6dde128509",
   "metadata": {},
   "source": [
    "7)  How can you handle multiple exceptions in Python?\n",
    "-> You can catch multiple exceptions using multiple except blocks or by grouping them in a tuple:\n",
    "\n",
    "try:  \n",
    "except (TypeError, ValueError) as e:\n",
    "    print(\"Caught an exception:\", e)\n"
   ]
  },
  {
   "cell_type": "markdown",
   "id": "73dee396-e4fa-48e4-b5d8-84a2116df0e9",
   "metadata": {},
   "source": [
    "8) What is the purpose of the with statement when handling files in Python?\n",
    "-> The with statement simplifies file handling by automatically managing file opening and closing. It ensures that the file is properly closed even if an error occurs during processing:\n",
    "   \n",
    "with open('file.txt', 'r') as f:\n",
    "    data = f.read()\n"
   ]
  },
  {
   "cell_type": "markdown",
   "id": "14176192-5f8f-4fb3-9dd5-61820045ad59",
   "metadata": {},
   "source": [
    "9) What is the difference between multithreading and multiprocessing?\n",
    "-> Multithreading: Multiple threads run in the same process and share memory. Best for I/O-bound tasks.\n",
    "Multiprocessing: Multiple processes run independently with separate memory. Ideal for CPU-bound tasks."
   ]
  },
  {
   "cell_type": "markdown",
   "id": "2acd3a4e-2c29-4541-b304-34fce9fd0cd7",
   "metadata": {},
   "source": [
    "10) What are the advantages of using logging in a program?\n",
    "-> - Helps in debugging and monitoring\n",
    "- Records runtime events\n",
    "- Supports different severity levels\n",
    "- Can log to files, consoles, or remote servers\n",
    "- More flexible and powerful than print()"
   ]
  },
  {
   "cell_type": "markdown",
   "id": "c582b360-020f-4618-b7fe-7d720bcff759",
   "metadata": {},
   "source": [
    "11)  What is memory management in Python?\n",
    "-> Python handles memory automatically using reference counting and a garbage collector. It allocates memory for new objects and reclaims it when objects are no longer in use, helping prevent memory leaks."
   ]
  },
  {
   "cell_type": "markdown",
   "id": "c16db5a7-b155-493c-abdb-08943ad0aef8",
   "metadata": {},
   "source": [
    "12) What are the basic steps involved in exception handling in Python?\n",
    "-> Following are the basic steps involved in exception handeling:\n",
    "try: Wrap code that might raise an error\n",
    "except: Handle specific exceptions\n",
    "else: Run code if no exception occurs\n",
    "finally: Always run cleanup code"
   ]
  },
  {
   "cell_type": "markdown",
   "id": "6e7e9848-8121-414e-807a-d65dca21e55d",
   "metadata": {},
   "source": [
    "13) Why is memory management important in Python?\n",
    "-> Efficient memory management ensures that your program uses system resources wisely, avoids memory leaks, and maintains performance, especially in long-running or data-intensive applications."
   ]
  },
  {
   "cell_type": "markdown",
   "id": "8362ec40-c914-433e-9ceb-64a226b31fc7",
   "metadata": {},
   "source": [
    "14) What is the role of try and except in exception handling?\n",
    "-> Beow are the role of try and except in exception handling:\n",
    "try: Contains code that might raise an exception\n",
    "except: Catches and handles the exception, preventing the program from crashing"
   ]
  },
  {
   "cell_type": "markdown",
   "id": "a36e193a-81ea-4698-ac66-11a38af467e6",
   "metadata": {},
   "source": [
    "15) How does Python's garbage collection system work?\n",
    "-> Python uses reference counting to track object usage. When an object’s reference count drops to zero, it’s deleted. It also uses a cyclic garbage collector to detect and clean up reference cycles."
   ]
  },
  {
   "cell_type": "markdown",
   "id": "2234f204-db6a-4bbc-9c45-e45c6e96406f",
   "metadata": {},
   "source": [
    "16)  What is the purpose of the else block in exception handling?\n",
    "-> The else block runs only if the try block doesn’t raise an exception. It’s useful for code that should only execute when no errors occur."
   ]
  },
  {
   "cell_type": "markdown",
   "id": "8dbce7ea-1038-4831-8470-b4c2e703a6f1",
   "metadata": {},
   "source": [
    "17) What are the common logging levels in Python?\n",
    "DEBUG: Detailed information for diagnosing problems\n",
    "INFO: General events confirming things are working\n",
    "WARNING: Something unexpected, but the program still works\n",
    "ERROR: A serious problem that prevents part of the program from working\n",
    "CRITICAL: A severe error causing the program to stop"
   ]
  },
  {
   "cell_type": "markdown",
   "id": "c06a02a2-134b-45cf-90ac-5c52615c8df6",
   "metadata": {},
   "source": [
    "18) What is the difference between os.fork() and multiprocessing in Python?\n",
    "-> os.fork(): Low-level, Unix-only method to create a child process.\n",
    "multiprocessing: High-level, cross-platform module that simplifies process creation and communication."
   ]
  },
  {
   "cell_type": "markdown",
   "id": "8d44937e-4f21-463b-9398-6f6b37f6ac25",
   "metadata": {},
   "source": [
    "19) What is the importance of closing a file in Python?\n",
    "-> Closing a file ensures that all data is written to disk and system resources are released. Failing to close files can lead to data corruption or memory leaks."
   ]
  },
  {
   "cell_type": "markdown",
   "id": "dbecbb2c-1354-4ab9-9f64-2d44c25427ed",
   "metadata": {},
   "source": [
    "20) What is the difference between file.read() and file.readline() in Python?\n",
    "read(): Reads the entire file content as a single string\n",
    "readline(): Reads one line at a time, useful for large files"
   ]
  },
  {
   "cell_type": "markdown",
   "id": "60589363-db69-44e2-a97e-bbcd8124bb8b",
   "metadata": {},
   "source": [
    "21)  What is the logging module in Python used for?\n",
    "-> The logging module provides a flexible framework for emitting log messages from Python programs. It helps track events, errors, and system behavior during execution."
   ]
  },
  {
   "cell_type": "markdown",
   "id": "0ce445ad-d629-4b9a-8abe-20650a117595",
   "metadata": {},
   "source": [
    "22) What is the os module in Python used for in file handling?\n",
    "-> The os module allows interaction with the operating system. In file handling, it helps with tasks like checking file existence, creating directories, renaming, and deleting files."
   ]
  },
  {
   "cell_type": "markdown",
   "id": "f732f95b-9e33-4207-85ca-e6d5fc168e27",
   "metadata": {},
   "source": [
    "23) What are the challenges associated with memory management in Python?\n",
    "Detecting and cleaning circular references.\n",
    "Managing memory in large-scale applications.\n",
    "Avoiding memory leaks due to lingering references.\n",
    "Balancing performance with memory usage."
   ]
  },
  {
   "cell_type": "markdown",
   "id": "cb5c010d-95d7-49df-bb5a-fc8837d6d25a",
   "metadata": {},
   "source": [
    "24)  How do you raise an exception manually in Python?\n",
    "-> We can raise exceptions using the raise keyword to signal an error intentionally:\n",
    "raise ValueError(\"Invalid input provided\")\n"
   ]
  },
  {
   "cell_type": "markdown",
   "id": "65f76d65-31d9-42cf-ab82-b8fa1c5e68d0",
   "metadata": {},
   "source": [
    "25) Why is it important to use multithreading in certain applications?\n",
    "-> Multithreading is useful in I/O-bound applications like web servers or file operations. It allows multiple tasks to run concurrently, improving responsiveness and performance."
   ]
  },
  {
   "cell_type": "code",
   "execution_count": 1,
   "id": "a5855bb7-f2ac-4f76-a4b1-1bda133af8cc",
   "metadata": {},
   "outputs": [],
   "source": [
    "#1) How can you open a file for writing in Python and write a string to it?\n",
    "with open(\"example.txt\", \"w\") as file:\n",
    "    file.write(\"Hello, world!\")"
   ]
  },
  {
   "cell_type": "code",
   "execution_count": 2,
   "id": "410f5f7a-7315-4003-accf-4bd61eedd1fe",
   "metadata": {},
   "outputs": [
    {
     "name": "stdout",
     "output_type": "stream",
     "text": [
      "this is the content in the file\n",
      "My name is Sonu.\n"
     ]
    }
   ],
   "source": [
    "#2) Write a Python program to read the contents of a file and print each line.\n",
    "with open(\"practfile.txt\", \"r\") as file:\n",
    "    for line in file:\n",
    "        print(line.strip())\n"
   ]
  },
  {
   "cell_type": "code",
   "execution_count": 3,
   "id": "4348125b-9059-4d3b-a82a-9362099d68b1",
   "metadata": {},
   "outputs": [
    {
     "name": "stdout",
     "output_type": "stream",
     "text": [
      "Error: The file 'nonexistent_file.txt' does not exist.\n"
     ]
    }
   ],
   "source": [
    "#3) How would you handle a case where the file doesn't exist while trying to open it for reading.\n",
    "filename = \"nonexistent_file.txt\"\n",
    "\n",
    "try:\n",
    "    with open(filename, \"r\") as file:\n",
    "        content = file.read()\n",
    "        print(content)\n",
    "except FileNotFoundError:\n",
    "    print(f\"Error: The file '{filename}' does not exist.\")\n"
   ]
  },
  {
   "cell_type": "code",
   "execution_count": 4,
   "id": "fe846c6f-5438-426f-896a-ed524cc6f3a4",
   "metadata": {},
   "outputs": [
    {
     "name": "stdout",
     "output_type": "stream",
     "text": [
      "Content successfully copied from 'practfile.txt' to 'example.txt'.\n"
     ]
    }
   ],
   "source": [
    "#4)Write a Python script that reads from one file and writes its content to another file\n",
    "# Define source and destination file paths\n",
    "source_file = \"practfile.txt\"\n",
    "destination_file = \"example.txt\"\n",
    "\n",
    "try:\n",
    "    # Open the source file for reading\n",
    "    with open(source_file, \"r\") as src:\n",
    "        content = src.read()\n",
    "\n",
    "    # Open the destination file for writing\n",
    "    with open(destination_file, \"w\") as dest:\n",
    "        dest.write(content)\n",
    "\n",
    "    print(f\"Content successfully copied from '{source_file}' to '{destination_file}'.\")\n",
    "\n",
    "except FileNotFoundError:\n",
    "    print(f\"Error: The file '{source_file}' does not exist.\")\n",
    "except IOError as e:\n",
    "    print(f\"An I/O error occurred: {e}\")\n"
   ]
  },
  {
   "cell_type": "code",
   "execution_count": 6,
   "id": "55189bee-380f-45dd-9978-1d4642f91025",
   "metadata": {},
   "outputs": [
    {
     "name": "stdout",
     "output_type": "stream",
     "text": [
      "this is the content in the file\n",
      "My name is Sonu.\n"
     ]
    }
   ],
   "source": [
    "with open(\"example.txt\", \"r\") as file:\n",
    "    for line in file:\n",
    "        print(line.strip())"
   ]
  },
  {
   "cell_type": "code",
   "execution_count": 9,
   "id": "79d494f5-8946-4d05-9920-99b6255154a8",
   "metadata": {},
   "outputs": [
    {
     "name": "stdout",
     "output_type": "stream",
     "text": [
      "Error: Hey, we cannot divide by zero.\n"
     ]
    }
   ],
   "source": [
    "#5) How would you catch and handle division by zero error in Python?\n",
    "try:\n",
    "    numerator = 10\n",
    "    denominator = 0\n",
    "    result = numerator / denominator\n",
    "    print(f\"Result: {result}\")\n",
    "except ZeroDivisionError:\n",
    "    print(\"Error: Hey, we cannot divide by zero.\")\n"
   ]
  },
  {
   "cell_type": "code",
   "execution_count": 10,
   "id": "dfcebcbd-41e7-455d-9cbc-2c6226a10a8d",
   "metadata": {},
   "outputs": [
    {
     "name": "stdout",
     "output_type": "stream",
     "text": [
      "Error: Cannot divide by zero.\n"
     ]
    }
   ],
   "source": [
    "#6) Write a Python program that logs an error message to a log file when a division by zero exception occurs.\n",
    "import logging\n",
    "\n",
    "# Configure logging to write to a file\n",
    "logging.basicConfig(\n",
    "    filename=\"error_log.txt\",\n",
    "    level=logging.ERROR,\n",
    "    format=\"%(asctime)s - %(levelname)s - %(message)s\"\n",
    ")\n",
    "\n",
    "def divide(a, b):\n",
    "    try:\n",
    "        result = a / b\n",
    "        print(f\"Result: {result}\")\n",
    "    except ZeroDivisionError as e:\n",
    "        logging.error(\"Attempted to divide by zero: %s\", e)\n",
    "        print(\"Error: Cannot divide by zero.\")\n",
    "\n",
    "# Example usage\n",
    "divide(10, 0)\n"
   ]
  },
  {
   "cell_type": "code",
   "execution_count": 11,
   "id": "7a533370-af78-416d-84e3-32b45c703b4b",
   "metadata": {},
   "outputs": [
    {
     "name": "stdout",
     "output_type": "stream",
     "text": [
      "2025-07-14 13:29:01,429 - ERROR - Attempted to divide by zero: division by zero\n"
     ]
    }
   ],
   "source": [
    "with open(\"error_log.txt\", \"r\") as file:\n",
    "    for line in file:\n",
    "        print(line.strip())"
   ]
  },
  {
   "cell_type": "code",
   "execution_count": 12,
   "id": "333d6f92-77c7-4a63-ab35-940e03e3fffb",
   "metadata": {},
   "outputs": [],
   "source": [
    "#7) How do you log information at different levels (INFO, ERROR, WARNING) in Python using the logging module?\n",
    "import logging\n",
    "\n",
    "# Configure logging\n",
    "logging.basicConfig(\n",
    "    filename=\"app.log\",\n",
    "    level=logging.DEBUG,  # Capture all levels from DEBUG and above\n",
    "    format=\"%(asctime)s - %(levelname)s - %(message)s\"\n",
    ")\n",
    "\n",
    "# Log messages at different levels\n",
    "logging.debug(\"This is a debug message.\")\n",
    "logging.info(\"This is an info message.\")\n",
    "logging.warning(\"This is a warning message.\")\n",
    "logging.error(\"This is an error message.\")\n",
    "logging.critical(\"This is a critical message.\")\n"
   ]
  },
  {
   "cell_type": "code",
   "execution_count": 14,
   "id": "3a9981db-bb0e-4834-a361-a1d2a97a9d94",
   "metadata": {},
   "outputs": [
    {
     "name": "stdout",
     "output_type": "stream",
     "text": [
      "Error: The file 'nonexistent_file.txt' was not found.\n"
     ]
    }
   ],
   "source": [
    "#8)  Write a program to handle a file opening error using exception handling.\n",
    "filename = \"nonexistent_file.txt\"\n",
    "\n",
    "try:\n",
    "    with open(filename, \"r\") as file: #It'll read the file\n",
    "        content = file.read()\n",
    "        print(content)\n",
    "except FileNotFoundError:\n",
    "    print(f\"Error: The file '{filename}' was not found.\")\n",
    "except PermissionError:\n",
    "    print(f\"Error: Permission denied to open the file '{filename}'.\")\n",
    "except Exception as e:\n",
    "    print(f\"An unexpected error occurred: {e}\")\n"
   ]
  },
  {
   "cell_type": "code",
   "execution_count": 15,
   "id": "19309596-8270-4a46-86ca-515fa6bc8c12",
   "metadata": {},
   "outputs": [
    {
     "name": "stdout",
     "output_type": "stream",
     "text": [
      "['this is the content in the file', 'My name is Sonu.']\n"
     ]
    }
   ],
   "source": [
    "#9) How can you read a file line by line and store its content in a list in Python?\n",
    "filename = \"practfile.txt\"\n",
    "\n",
    "try:\n",
    "    with open(filename, \"r\") as file:\n",
    "        lines = [line.strip() for line in file]\n",
    "    print(lines)\n",
    "except FileNotFoundError:\n",
    "    print(f\"Error: The file '{filename}' was not found.\")\n"
   ]
  },
  {
   "cell_type": "code",
   "execution_count": 18,
   "id": "1cd338a1-84ba-49e6-ae8f-a19c99874786",
   "metadata": {},
   "outputs": [
    {
     "name": "stdout",
     "output_type": "stream",
     "text": [
      "Data appended successfully.\n"
     ]
    }
   ],
   "source": [
    "#10)  How can you append data to an existing file in Python?\n",
    "filename = \"example.txt\"\n",
    "data_to_append = \"\\nThis is a new line of text.\"\n",
    "\n",
    "try:\n",
    "    with open(filename, \"a\") as file:\n",
    "        file.write(data_to_append + \"\\n\")\n",
    "    print(\"Data appended successfully.\")\n",
    "except Exception as e:\n",
    "    print(f\"An error occurred: {e}\")\n"
   ]
  },
  {
   "cell_type": "code",
   "execution_count": 19,
   "id": "8bedd6bd-7197-44d5-bdee-295a81595f06",
   "metadata": {},
   "outputs": [
    {
     "name": "stdout",
     "output_type": "stream",
     "text": [
      "this is the content in the file\n",
      "My name is Sonu.This is a new line of text.\n",
      "\n",
      "This is a new line of text.\n"
     ]
    }
   ],
   "source": [
    "with open(\"example.txt\", \"r\") as file:\n",
    "    for line in file:\n",
    "        print(line.strip())"
   ]
  },
  {
   "cell_type": "code",
   "execution_count": 20,
   "id": "b02c2be5-3ac4-4c4d-8bb8-ff29d788a2d0",
   "metadata": {},
   "outputs": [
    {
     "name": "stdout",
     "output_type": "stream",
     "text": [
      "Name: Sonu Pandit\n",
      "Error: The key ''occupation'' does not exist in the dictionary.\n"
     ]
    }
   ],
   "source": [
    "#11) Write a Python program that uses a try-except block to handle an error when attempting to access a dictionary key that doesn't exist.\n",
    "# Define a sample dictionary\n",
    "person = {\n",
    "    \"name\": \"Sonu Pandit\",\n",
    "    \"age\": 25\n",
    "}\n",
    "\n",
    "# Attempt to access a non-existent key\n",
    "try:\n",
    "    print(\"Name:\", person[\"name\"])\n",
    "    print(\"Occupation:\", person[\"occupation\"])  # This key doesn't exist\n",
    "except KeyError as e:\n",
    "    print(f\"Error: The key '{e}' does not exist in the dictionary.\")\n"
   ]
  },
  {
   "cell_type": "code",
   "execution_count": 27,
   "id": "673a858c-5704-4fb5-b77d-a57367bfc433",
   "metadata": {},
   "outputs": [
    {
     "name": "stdin",
     "output_type": "stream",
     "text": [
      "Enter a number:  0\n"
     ]
    },
    {
     "name": "stdout",
     "output_type": "stream",
     "text": [
      "Division by zero is not allowed.\n"
     ]
    }
   ],
   "source": [
    "#12) Write a program that demonstrates using multiple except blocks to handle different types of exceptions.\n",
    "def exception_demo():\n",
    "    try:\n",
    "        # Trigger a ValueError\n",
    "        number = int(input(\"Enter a number: \"))\n",
    "        \n",
    "        # Trigger a ZeroDivisionError\n",
    "        result = 10 / number\n",
    "        \n",
    "        # Trigger a KeyError\n",
    "        sample_dict = {\"a\": 1, \"b\": 2}\n",
    "        print(sample_dict[\"c\"])\n",
    "    \n",
    "    except ValueError:\n",
    "        print(\"You did not enter a valid integer.\")\n",
    "    \n",
    "    except ZeroDivisionError:\n",
    "        print(\"Division by zero is not allowed.\")\n",
    "    \n",
    "    except KeyError as e:\n",
    "        print(f\"KeyError: The key '{e}' does not exist in the dictionary.\")\n",
    "    \n",
    "    except Exception as e:\n",
    "        print(f\"An unexpected error occurred: {e}\")\n",
    "\n",
    "# Run the function\n",
    "exception_demo()\n"
   ]
  },
  {
   "cell_type": "code",
   "execution_count": 28,
   "id": "98063015-660b-4783-9f8b-9a99d5e60ba4",
   "metadata": {},
   "outputs": [
    {
     "name": "stdout",
     "output_type": "stream",
     "text": [
      "this is the content in the file\n",
      "My name is Sonu.This is a new line of text.\n",
      "\n",
      "This is a new line of text.\n",
      "\n"
     ]
    }
   ],
   "source": [
    "#13)  How would you check if a file exists before attempting to read it in Python?\n",
    "import os\n",
    "\n",
    "file_path = \"example.txt\"\n",
    "\n",
    "if os.path.exists(file_path):\n",
    "    with open(file_path, 'r') as file:\n",
    "        content = file.read()\n",
    "        print(content)\n",
    "else:\n",
    "    print(f\"File does not exist.\")\n"
   ]
  },
  {
   "cell_type": "code",
   "execution_count": 32,
   "id": "969913cb-8de6-4aad-84d1-ecd1947d6e78",
   "metadata": {},
   "outputs": [],
   "source": [
    "#14) Write a program that uses the logging module to log both informational and error messages.\n",
    "import logging\n",
    "\n",
    "# Basic logging setup\n",
    "logging.basicConfig(level=logging.INFO)\n",
    "\n",
    "def divide(a, b):\n",
    "    try:\n",
    "        result = a / b\n",
    "        logging.info(f\"Result: {result}\")\n",
    "    except ZeroDivisionError:\n",
    "        logging.error(\"Cannot divide by zero.\")\n",
    "    except Exception as e:\n",
    "        logging.error(f\"Error: {e}\")\n",
    "\n",
    "# Test the function\n",
    "divide(10, 2)\n",
    "#divide(10, 0)\n",
    "#divide(\"10\", 2)\n",
    "\n"
   ]
  },
  {
   "cell_type": "code",
   "execution_count": 33,
   "id": "89e5117f-b22e-414f-87e6-705e412b3b88",
   "metadata": {},
   "outputs": [
    {
     "name": "stdout",
     "output_type": "stream",
     "text": [
      "File content:\n",
      "this is the content in the file\n",
      "My name is Sonu.This is a new line of text.\n",
      "\n",
      "This is a new line of text.\n",
      "\n"
     ]
    }
   ],
   "source": [
    "#15) Write a Python program that prints the content of a file and handles the case when the file is empty.\n",
    "def read_file(filename):\n",
    "    try:\n",
    "        with open(filename, 'r') as file:\n",
    "            content = file.read()\n",
    "            if content.strip() == \"\":\n",
    "                print(\"The file is empty.\")\n",
    "            else:\n",
    "                print(\"File content:\")\n",
    "                print(content)\n",
    "    except FileNotFoundError:\n",
    "        print(\"The file does not exist.\")\n",
    "    except Exception as e:\n",
    "        print(f\"An error occurred: {e}\")\n",
    "\n",
    "# Example usage\n",
    "read_file(\"example.txt\")\n"
   ]
  },
  {
   "cell_type": "code",
   "execution_count": null,
   "id": "5cef5713-d945-4f13-9602-a23c480e98a0",
   "metadata": {},
   "outputs": [],
   "source": [
    "#16)  Demonstrate how to use memory profiling to check the memory usage of a small program.\n",
    "pip install memory-profiler\n",
    "from memory_profiler import profile\n",
    "\n",
    "@profile\n",
    "def create_large_list():\n",
    "    large_list = [i * 2 for i in range(100000)]\n",
    "    return sum(large_list)\n",
    "\n",
    "if __name__ == \"__main__\":\n",
    "    create_large_list()\n",
    "python -m memory_profiler your_script.py\n"
   ]
  },
  {
   "cell_type": "code",
   "execution_count": 34,
   "id": "19a393c6-01d1-4177-a240-87c9e62cb62b",
   "metadata": {},
   "outputs": [
    {
     "name": "stdout",
     "output_type": "stream",
     "text": [
      "Numbers have been written to numbers.txt.\n"
     ]
    }
   ],
   "source": [
    "#17) Write a Python program to create and write a list of numbers to a file, one number per line.\n",
    "# Define a list of numbers\n",
    "numbers = [1, 2, 3, 4, 5, 10, 20, 30]\n",
    "\n",
    "# Specify the output file name\n",
    "file_name = \"numbers.txt\"\n",
    "\n",
    "# Write each number to the file, one per line\n",
    "with open(file_name, 'w') as file:\n",
    "    for number in numbers:\n",
    "        file.write(f\"{number}\\n\")\n",
    "\n",
    "print(f\"Numbers have been written to {file_name}.\")\n"
   ]
  },
  {
   "cell_type": "code",
   "execution_count": 35,
   "id": "14293aca-1733-417f-b2b2-44f2e8ae65f3",
   "metadata": {},
   "outputs": [
    {
     "name": "stdout",
     "output_type": "stream",
     "text": [
      "1\n",
      "2\n",
      "3\n",
      "4\n",
      "5\n",
      "10\n",
      "20\n",
      "30\n"
     ]
    }
   ],
   "source": [
    "with open(\"numbers.txt\", \"r\") as file:\n",
    "    for line in file:\n",
    "        print(line.strip())"
   ]
  },
  {
   "cell_type": "code",
   "execution_count": 36,
   "id": "508fa9ef-dab1-497f-b4ef-925b55f2abd7",
   "metadata": {},
   "outputs": [],
   "source": [
    "#18) How would you implement a basic logging setup that logs to a file with rotation after 1MB?\n",
    "import logging\n",
    "from logging.handlers import RotatingFileHandler\n",
    "\n",
    "# Set up a rotating file handler\n",
    "log_file = \"app.log\"\n",
    "handler = RotatingFileHandler(log_file, maxBytes=1_000_000, backupCount=3)\n",
    "\n",
    "# Configure logging\n",
    "logging.basicConfig(\n",
    "    level=logging.INFO,\n",
    "    format=\"%(asctime)s - %(levelname)s - %(message)s\",\n",
    "    handlers=[handler]\n",
    ")\n",
    "\n",
    "# Example usage\n",
    "for i in range(10000):\n",
    "    logging.info(f\"This is log message number {i}\")\n"
   ]
  },
  {
   "cell_type": "code",
   "execution_count": null,
   "id": "2733f8ce-11b2-4632-b567-35dd6018fd19",
   "metadata": {},
   "outputs": [],
   "source": []
  },
  {
   "cell_type": "code",
   "execution_count": 40,
   "id": "c4080b6f-7c34-43c4-b915-edc426a25c58",
   "metadata": {},
   "outputs": [
    {
     "name": "stdout",
     "output_type": "stream",
     "text": [
      "3\n",
      "KeyError: Key not found in dictionary.\n"
     ]
    }
   ],
   "source": [
    "#19  Write a program that handles both IndexError and KeyError using a try-except block.\n",
    "def handle_errors():\n",
    "    my_list = [1, 2, 3]\n",
    "    my_dict = {\"a\": 10, \"b\": 20}\n",
    "\n",
    "    try:\n",
    "        # This will raise IndexError\n",
    "        print(my_list[2])\n",
    "\n",
    "        # This will raise KeyError\n",
    "        print(my_dict[\"h\"])\n",
    "\n",
    "    except IndexError:\n",
    "        print(\"IndexError: List index is out of range.\")\n",
    "\n",
    "    except KeyError:\n",
    "        print(\"KeyError: Key not found in dictionary.\")\n",
    "\n",
    "# Run the function\n",
    "handle_errors()\n",
    "\n"
   ]
  },
  {
   "cell_type": "code",
   "execution_count": 41,
   "id": "12c89915-e39f-4fe9-b62d-4e431e1d40f8",
   "metadata": {},
   "outputs": [
    {
     "name": "stdout",
     "output_type": "stream",
     "text": [
      "this is the content in the file\n",
      "My name is Sonu.This is a new line of text.\n",
      "\n",
      "This is a new line of text.\n",
      "\n"
     ]
    }
   ],
   "source": [
    "#20)How would you open a file and read its contents using a context manager in Python.\n",
    "file_path = \"example.txt\"\n",
    "\n",
    "# Open and read the file using a context manager\n",
    "with open(file_path, 'r') as file:\n",
    "    content = file.read()\n",
    "    print(content)\n"
   ]
  },
  {
   "cell_type": "code",
   "execution_count": 42,
   "id": "6f99aecd-015e-46fb-ba2b-d0674854c4a4",
   "metadata": {},
   "outputs": [
    {
     "name": "stdout",
     "output_type": "stream",
     "text": [
      "The word 'new' occurs 2 times in the file.\n"
     ]
    }
   ],
   "source": [
    "#21)  Write a Python program that reads a file and prints the number of occurrences of a specific word.\n",
    "def count_word_occurrences(filename, target_word):\n",
    "    try:\n",
    "        with open(filename, 'r') as file:\n",
    "            content = file.read().lower()  # Convert to lowercase for case-insensitive matching\n",
    "            word_count = content.split().count(target_word.lower())\n",
    "            print(f\"The word '{target_word}' occurs {word_count} times in the file.\")\n",
    "    except FileNotFoundError:\n",
    "        print(\"The file does not exist.\")\n",
    "    except Exception as e:\n",
    "        print(f\"An error occurred: {e}\")\n",
    "\n",
    "# Example usage\n",
    "count_word_occurrences(\"example.txt\", \"new\")\n"
   ]
  },
  {
   "cell_type": "code",
   "execution_count": 44,
   "id": "78e39a7f-d9d3-4f3d-96a7-6c1e0448c73d",
   "metadata": {},
   "outputs": [
    {
     "name": "stdout",
     "output_type": "stream",
     "text": [
      "this is the content in the file\n",
      "My name is Sonu.This is a new line of text.\n",
      "\n",
      "This is a new line of text.\n",
      "\n"
     ]
    }
   ],
   "source": [
    "#22)  How can you check if a file is empty before attempting to read its contents.\n",
    "file_path = \"example.txt\"\n",
    "\n",
    "try:\n",
    "    with open(file_path, 'r') as file:\n",
    "        content = file.read()\n",
    "        if not content.strip():\n",
    "            print(\"The file is empty.\")\n",
    "        else:\n",
    "            print(content)\n",
    "except FileNotFoundError:\n",
    "    print(\"File not found.\")\n"
   ]
  },
  {
   "cell_type": "code",
   "execution_count": 47,
   "id": "3b780a83-8981-4955-be86-bbba6344bf88",
   "metadata": {},
   "outputs": [
    {
     "name": "stdout",
     "output_type": "stream",
     "text": [
      "this is the content in the file\n",
      "My name is Sonu.\n"
     ]
    }
   ],
   "source": [
    "#23)  Write a Python program that writes to a log file when an error occurs during file handling.\n",
    "import logging\n",
    "\n",
    "# Set up logging to a file\n",
    "logging.basicConfig(\n",
    "    filename='error_log.txt',\n",
    "    level=logging.ERROR,\n",
    "    format='%(asctime)s - %(levelname)s - %(message)s'\n",
    ")\n",
    "\n",
    "def read_file(filename):\n",
    "    try:\n",
    "        with open(filename, 'r') as file:\n",
    "            content = file.read()\n",
    "            print(content)\n",
    "    except Exception as e:\n",
    "        logging.error(f\"Error reading file '{filename}': {e}\")\n",
    "        print(\"An error occurred. Check the log file for details.\")\n",
    "\n",
    "# Example usage\n",
    "read_file(\"practfile.txt\")\n"
   ]
  },
  {
   "cell_type": "code",
   "execution_count": null,
   "id": "368280fb-e971-4a97-a563-1e7e3ed7e8a8",
   "metadata": {},
   "outputs": [],
   "source": []
  }
 ],
 "metadata": {
  "kernelspec": {
   "display_name": "Python 3 (ipykernel)",
   "language": "python",
   "name": "python3"
  },
  "language_info": {
   "codemirror_mode": {
    "name": "ipython",
    "version": 3
   },
   "file_extension": ".py",
   "mimetype": "text/x-python",
   "name": "python",
   "nbconvert_exporter": "python",
   "pygments_lexer": "ipython3",
   "version": "3.12.0"
  }
 },
 "nbformat": 4,
 "nbformat_minor": 5
}
